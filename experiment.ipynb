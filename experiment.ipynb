{
 "cells": [
  {
   "cell_type": "code",
   "execution_count": 1,
   "metadata": {},
   "outputs": [],
   "source": [
    "import os\n",
    "import numpy as np"
   ]
  },
  {
   "cell_type": "code",
   "execution_count": 2,
   "metadata": {},
   "outputs": [],
   "source": [
    "basedir = \"/home/timeTravelling/yuanke/nerf-pytorch/reconstruct_output\""
   ]
  },
  {
   "cell_type": "code",
   "execution_count": 3,
   "metadata": {},
   "outputs": [],
   "source": [
    "poses_arr = np.load(os.path.join(basedir, 'poses_bounds.npy'))"
   ]
  },
  {
   "cell_type": "code",
   "execution_count": 4,
   "metadata": {},
   "outputs": [
    {
     "data": {
      "text/plain": [
       "(3, 5, 100)"
      ]
     },
     "execution_count": 4,
     "metadata": {},
     "output_type": "execute_result"
    }
   ],
   "source": [
    "poses = poses_arr[:, :-2].reshape([-1, 3, 5]).transpose([1,2,0])\n",
    "poses.shape"
   ]
  },
  {
   "cell_type": "code",
   "execution_count": 5,
   "metadata": {},
   "outputs": [],
   "source": [
    "poses = np.moveaxis(poses, -1, 0).astype(np.float32)"
   ]
  },
  {
   "cell_type": "code",
   "execution_count": 6,
   "metadata": {},
   "outputs": [
    {
     "data": {
      "text/plain": [
       "(100, 3, 5)"
      ]
     },
     "execution_count": 6,
     "metadata": {},
     "output_type": "execute_result"
    }
   ],
   "source": [
    "poses.shape"
   ]
  },
  {
   "cell_type": "code",
   "execution_count": 9,
   "metadata": {},
   "outputs": [],
   "source": [
    "H, W, K, c2w =800,800,0,poses[0,:3,:4]"
   ]
  },
  {
   "cell_type": "code",
   "execution_count": 10,
   "metadata": {},
   "outputs": [],
   "source": [
    "i, j = np.meshgrid(np.arange(W, dtype=np.float32), np.arange(H, dtype=np.float32), indexing='xy')"
   ]
  },
  {
   "cell_type": "code",
   "execution_count": 12,
   "metadata": {},
   "outputs": [],
   "source": [
    "k = np.meshgrid(np.arange(W, dtype=np.float32), np.arange(H, dtype=np.float32), indexing='xy')"
   ]
  },
  {
   "cell_type": "code",
   "execution_count": 14,
   "metadata": {},
   "outputs": [],
   "source": [
    "hwf = poses[0,:3,-1]\n",
    "H, W, focal = hwf\n",
    "H, W = int(H), int(W)\n",
    "hwf = [H, W, focal]\n",
    "K = np.array([\n",
    "    [focal, 0, 0.5*W],\n",
    "    [0, focal, 0.5*H],\n",
    "    [0, 0, 1]\n",
    "])"
   ]
  },
  {
   "cell_type": "code",
   "execution_count": 16,
   "metadata": {},
   "outputs": [],
   "source": [
    "dirs = np.stack([(i-K[0][2])/K[0][0], -(j-K[1][2])/K[1][1], -np.ones_like(i)], -1)"
   ]
  },
  {
   "cell_type": "code",
   "execution_count": 25,
   "metadata": {},
   "outputs": [],
   "source": [
    "rays_d = np.sum(dirs[..., np.newaxis, :] * c2w[:3,:3], -1)"
   ]
  },
  {
   "cell_type": "code",
   "execution_count": 29,
   "metadata": {},
   "outputs": [
    {
     "data": {
      "text/plain": [
       "(100, 3, 5)"
      ]
     },
     "execution_count": 29,
     "metadata": {},
     "output_type": "execute_result"
    }
   ],
   "source": [
    "poses.shape"
   ]
  },
  {
   "cell_type": "code",
   "execution_count": 30,
   "metadata": {},
   "outputs": [],
   "source": [
    "def get_rays_np(H, W, K, c2w):\n",
    "    i, j = np.meshgrid(np.arange(W, dtype=np.float32), np.arange(H, dtype=np.float32), indexing='xy')\n",
    "    dirs = np.stack([(i-K[0][2])/K[0][0], -(j-K[1][2])/K[1][1], -np.ones_like(i)], -1)\n",
    "    rays_d = np.sum(dirs[..., np.newaxis, :] * c2w[:3,:3], -1)  # dot product, equals to: [c2w.dot(dir) for dir in dirs]\n",
    "    rays_o = np.broadcast_to(c2w[:3,-1], np.shape(rays_d))\n",
    "    return rays_o, rays_d\n",
    "rays = np.stack([get_rays_np(H, W, K, p) for p in poses[:,:3,:4]], 0)"
   ]
  },
  {
   "cell_type": "code",
   "execution_count": 31,
   "metadata": {},
   "outputs": [
    {
     "data": {
      "text/plain": [
       "(100, 2, 800, 800, 3)"
      ]
     },
     "execution_count": 31,
     "metadata": {},
     "output_type": "execute_result"
    }
   ],
   "source": [
    "rays.shape"
   ]
  },
  {
   "cell_type": "code",
   "execution_count": 2,
   "metadata": {},
   "outputs": [],
   "source": [
    "import torch"
   ]
  },
  {
   "cell_type": "code",
   "execution_count": 3,
   "metadata": {},
   "outputs": [],
   "source": [
    "t_vals = torch.linspace(0., 1., steps=64)"
   ]
  },
  {
   "cell_type": "code",
   "execution_count": 4,
   "metadata": {},
   "outputs": [
    {
     "data": {
      "text/plain": [
       "torch.Size([64])"
      ]
     },
     "execution_count": 4,
     "metadata": {},
     "output_type": "execute_result"
    }
   ],
   "source": [
    "t_vals.shape"
   ]
  },
  {
   "cell_type": "code",
   "execution_count": 7,
   "metadata": {},
   "outputs": [],
   "source": [
    "near, far = 0 * torch.ones_like(torch.Tensor(1024)), 1 * torch.ones_like(torch.Tensor(1024))"
   ]
  },
  {
   "cell_type": "code",
   "execution_count": 12,
   "metadata": {},
   "outputs": [],
   "source": [
    "near, far = near.reshape(1024,1), far.reshape(1024,1)"
   ]
  },
  {
   "cell_type": "code",
   "execution_count": 13,
   "metadata": {},
   "outputs": [],
   "source": [
    "z_vals = near * (1.-t_vals) + far * (t_vals)"
   ]
  },
  {
   "cell_type": "code",
   "execution_count": 16,
   "metadata": {},
   "outputs": [],
   "source": [
    "z_vals = z_vals.expand([1024, 64])"
   ]
  },
  {
   "cell_type": "code",
   "execution_count": 18,
   "metadata": {},
   "outputs": [
    {
     "data": {
      "text/plain": [
       "tensor([[0.0000, 0.0159, 0.0317,  ..., 0.9683, 0.9841, 1.0000],\n",
       "        [0.0000, 0.0159, 0.0317,  ..., 0.9683, 0.9841, 1.0000],\n",
       "        [0.0000, 0.0159, 0.0317,  ..., 0.9683, 0.9841, 1.0000],\n",
       "        ...,\n",
       "        [0.0000, 0.0159, 0.0317,  ..., 0.9683, 0.9841, 1.0000],\n",
       "        [0.0000, 0.0159, 0.0317,  ..., 0.9683, 0.9841, 1.0000],\n",
       "        [0.0000, 0.0159, 0.0317,  ..., 0.9683, 0.9841, 1.0000]])"
      ]
     },
     "execution_count": 18,
     "metadata": {},
     "output_type": "execute_result"
    }
   ],
   "source": [
    "z_vals"
   ]
  },
  {
   "cell_type": "code",
   "execution_count": 20,
   "metadata": {},
   "outputs": [
    {
     "data": {
      "text/plain": [
       "torch.Size([1024, 63])"
      ]
     },
     "execution_count": 20,
     "metadata": {},
     "output_type": "execute_result"
    }
   ],
   "source": [
    "mids = .5 * (z_vals[...,1:] + z_vals[...,:-1])\n",
    "mids.shape"
   ]
  },
  {
   "cell_type": "code",
   "execution_count": 21,
   "metadata": {},
   "outputs": [
    {
     "data": {
      "text/plain": [
       "torch.Size([1024, 64])"
      ]
     },
     "execution_count": 21,
     "metadata": {},
     "output_type": "execute_result"
    }
   ],
   "source": [
    "upper = torch.cat([mids, z_vals[...,-1:]], -1)\n",
    "upper.shape"
   ]
  },
  {
   "cell_type": "code",
   "execution_count": 22,
   "metadata": {},
   "outputs": [],
   "source": [
    "lower = torch.cat([z_vals[...,:1], mids], -1)"
   ]
  },
  {
   "cell_type": "code",
   "execution_count": 23,
   "metadata": {},
   "outputs": [],
   "source": [
    "t_rand = torch.rand(z_vals.shape)"
   ]
  },
  {
   "cell_type": "code",
   "execution_count": 24,
   "metadata": {},
   "outputs": [
    {
     "data": {
      "text/plain": [
       "tensor([[0.6841, 0.5793, 0.1013,  ..., 0.7408, 0.6742, 0.6534],\n",
       "        [0.6035, 0.6115, 0.7997,  ..., 0.4922, 0.0203, 0.9313],\n",
       "        [0.5335, 0.8111, 0.9613,  ..., 0.2066, 0.5531, 0.9985],\n",
       "        ...,\n",
       "        [0.5172, 0.1228, 0.4495,  ..., 0.7886, 0.3606, 0.9098],\n",
       "        [0.6594, 0.2136, 0.9326,  ..., 0.9645, 0.4376, 0.4564],\n",
       "        [0.4754, 0.6192, 0.4316,  ..., 0.7974, 0.9276, 0.3128]])"
      ]
     },
     "execution_count": 24,
     "metadata": {},
     "output_type": "execute_result"
    }
   ],
   "source": [
    "t_rand"
   ]
  },
  {
   "cell_type": "code",
   "execution_count": 28,
   "metadata": {},
   "outputs": [
    {
     "data": {
      "text/plain": [
       "torch.Size([1024, 64, 64])"
      ]
     },
     "execution_count": 28,
     "metadata": {},
     "output_type": "execute_result"
    }
   ],
   "source": [
    "(upper[...,None,:] + lower[...,None,:] + t_rand[...,:,None]).shape"
   ]
  },
  {
   "cell_type": "code",
   "execution_count": 33,
   "metadata": {},
   "outputs": [
    {
     "data": {
      "text/plain": [
       "torch.Size([1024, 64, 3])"
      ]
     },
     "execution_count": 33,
     "metadata": {},
     "output_type": "execute_result"
    }
   ],
   "source": [
    "(lower[...,None,:3] * t_rand[...,:,None]).shape"
   ]
  },
  {
   "cell_type": "code",
   "execution_count": 30,
   "metadata": {},
   "outputs": [
    {
     "data": {
      "text/plain": [
       "tensor([[0.0000, 0.0079, 0.0238,  ..., 0.9603, 0.9762, 0.9921],\n",
       "        [0.0000, 0.0079, 0.0238,  ..., 0.9603, 0.9762, 0.9921],\n",
       "        [0.0000, 0.0079, 0.0238,  ..., 0.9603, 0.9762, 0.9921],\n",
       "        ...,\n",
       "        [0.0000, 0.0079, 0.0238,  ..., 0.9603, 0.9762, 0.9921],\n",
       "        [0.0000, 0.0079, 0.0238,  ..., 0.9603, 0.9762, 0.9921],\n",
       "        [0.0000, 0.0079, 0.0238,  ..., 0.9603, 0.9762, 0.9921]])"
      ]
     },
     "execution_count": 30,
     "metadata": {},
     "output_type": "execute_result"
    }
   ],
   "source": [
    "lower"
   ]
  },
  {
   "cell_type": "code",
   "execution_count": 31,
   "metadata": {},
   "outputs": [
    {
     "data": {
      "text/plain": [
       "tensor([[[0.0079, 0.0317, 0.0635,  ..., 1.9365, 1.9683, 1.9921]],\n",
       "\n",
       "        [[0.0079, 0.0317, 0.0635,  ..., 1.9365, 1.9683, 1.9921]],\n",
       "\n",
       "        [[0.0079, 0.0317, 0.0635,  ..., 1.9365, 1.9683, 1.9921]],\n",
       "\n",
       "        ...,\n",
       "\n",
       "        [[0.0079, 0.0317, 0.0635,  ..., 1.9365, 1.9683, 1.9921]],\n",
       "\n",
       "        [[0.0079, 0.0317, 0.0635,  ..., 1.9365, 1.9683, 1.9921]],\n",
       "\n",
       "        [[0.0079, 0.0317, 0.0635,  ..., 1.9365, 1.9683, 1.9921]]])"
      ]
     },
     "execution_count": 31,
     "metadata": {},
     "output_type": "execute_result"
    }
   ],
   "source": [
    "upper[...,None,:] + lower[...,None,:]"
   ]
  },
  {
   "cell_type": "code",
   "execution_count": 34,
   "metadata": {},
   "outputs": [],
   "source": [
    "freq_bands = 2.**torch.linspace(0., 9, steps=10)"
   ]
  },
  {
   "cell_type": "code",
   "execution_count": 36,
   "metadata": {},
   "outputs": [],
   "source": [
    "x = torch.Tensor([[1,2,3],[4,5,6]])"
   ]
  },
  {
   "cell_type": "code",
   "execution_count": 38,
   "metadata": {},
   "outputs": [],
   "source": [
    "embed_fns = []"
   ]
  },
  {
   "cell_type": "code",
   "execution_count": 39,
   "metadata": {},
   "outputs": [],
   "source": [
    "for freq in freq_bands:\n",
    "    for p_fn in [torch.sin, torch.cos]:\n",
    "        embed_fns.append(p_fn(x * freq))"
   ]
  },
  {
   "cell_type": "code",
   "execution_count": 48,
   "metadata": {},
   "outputs": [
    {
     "data": {
      "text/plain": [
       "[tensor([[ 0.8415,  0.9093,  0.1411],\n",
       "         [-0.7568, -0.9589, -0.2794]]),\n",
       " tensor([[ 0.5403, -0.4161, -0.9900],\n",
       "         [-0.6536,  0.2837,  0.9602]]),\n",
       " tensor([[ 0.9093, -0.7568, -0.2794],\n",
       "         [ 0.9894, -0.5440, -0.5366]]),\n",
       " tensor([[-0.4161, -0.6536,  0.9602],\n",
       "         [-0.1455, -0.8391,  0.8439]]),\n",
       " tensor([[-0.7568,  0.9894, -0.5366],\n",
       "         [-0.2879,  0.9129, -0.9056]]),\n",
       " tensor([[-0.6536, -0.1455,  0.8439],\n",
       "         [-0.9577,  0.4081,  0.4242]]),\n",
       " tensor([[ 0.9894, -0.2879, -0.9056],\n",
       "         [ 0.5514,  0.7451, -0.7683]]),\n",
       " tensor([[-0.1455, -0.9577,  0.4242],\n",
       "         [ 0.8342, -0.6669, -0.6401]]),\n",
       " tensor([[-0.2879,  0.5514, -0.7683],\n",
       "         [ 0.9200, -0.9939,  0.9836]]),\n",
       " tensor([[-0.9577,  0.8342, -0.6401],\n",
       "         [ 0.3919, -0.1104, -0.1804]]),\n",
       " tensor([[ 0.5514,  0.9200,  0.9836],\n",
       "         [ 0.7210,  0.2194, -0.3549]]),\n",
       " tensor([[ 0.8342,  0.3919, -0.1804],\n",
       "         [-0.6929, -0.9756, -0.9349]]),\n",
       " tensor([[ 0.9200,  0.7210, -0.3549],\n",
       "         [-0.9992, -0.4282,  0.6637]]),\n",
       " tensor([[ 0.3919, -0.6929, -0.9349],\n",
       "         [-0.0398,  0.9037,  0.7480]]),\n",
       " tensor([[ 0.7210, -0.9992,  0.6637],\n",
       "         [ 0.0795, -0.7739,  0.9929]]),\n",
       " tensor([[-0.6929, -0.0398,  0.7480],\n",
       "         [-0.9968,  0.6334,  0.1191]]),\n",
       " tensor([[-0.9992,  0.0795,  0.9929],\n",
       "         [-0.1585, -0.9803,  0.2365]]),\n",
       " tensor([[-0.0398, -0.9968,  0.1191],\n",
       "         [ 0.9874, -0.1977, -0.9716]]),\n",
       " tensor([[ 0.0795, -0.1585,  0.2365],\n",
       "         [-0.3131,  0.3876, -0.4597]]),\n",
       " tensor([[-0.9968,  0.9874, -0.9716],\n",
       "         [ 0.9497, -0.9218,  0.8881]])]"
      ]
     },
     "execution_count": 48,
     "metadata": {},
     "output_type": "execute_result"
    }
   ],
   "source": [
    "embed_fns"
   ]
  },
  {
   "cell_type": "code",
   "execution_count": 47,
   "metadata": {},
   "outputs": [
    {
     "data": {
      "text/plain": [
       "torch.Size([10])"
      ]
     },
     "execution_count": 47,
     "metadata": {},
     "output_type": "execute_result"
    }
   ],
   "source": [
    "freq_bands.shape"
   ]
  },
  {
   "cell_type": "code",
   "execution_count": 49,
   "metadata": {},
   "outputs": [
    {
     "data": {
      "text/plain": [
       "(1024, 64)"
      ]
     },
     "execution_count": 49,
     "metadata": {},
     "output_type": "execute_result"
    }
   ],
   "source": [
    "(1024,64,3)[:-1]"
   ]
  },
  {
   "cell_type": "code",
   "execution_count": 2,
   "metadata": {},
   "outputs": [],
   "source": [
    "import torch\n",
    "x = torch.zeros(1024, 2, 3)"
   ]
  },
  {
   "cell_type": "code",
   "execution_count": 5,
   "metadata": {},
   "outputs": [],
   "source": [
    "import numpy as np"
   ]
  },
  {
   "cell_type": "code",
   "execution_count": 7,
   "metadata": {},
   "outputs": [],
   "source": [
    "rays_rgb = np.zeros((1024, 3, 3))"
   ]
  },
  {
   "cell_type": "code",
   "execution_count": 9,
   "metadata": {},
   "outputs": [
    {
     "data": {
      "text/plain": [
       "torch.Size([3, 1024, 3])"
      ]
     },
     "execution_count": 9,
     "metadata": {},
     "output_type": "execute_result"
    }
   ],
   "source": [
    "rays_rgb = torch.Tensor(rays_rgb)\n",
    "batch = torch.transpose(rays_rgb, 0, 1)\n",
    "batch.shape"
   ]
  },
  {
   "cell_type": "code",
   "execution_count": 10,
   "metadata": {},
   "outputs": [],
   "source": [
    "batch_rays = batch[:2]"
   ]
  },
  {
   "cell_type": "code",
   "execution_count": 11,
   "metadata": {},
   "outputs": [],
   "source": [
    "rays_o, rays_d = batch_rays"
   ]
  },
  {
   "cell_type": "code",
   "execution_count": 12,
   "metadata": {},
   "outputs": [
    {
     "data": {
      "text/plain": [
       "torch.Size([1024, 3])"
      ]
     },
     "execution_count": 12,
     "metadata": {},
     "output_type": "execute_result"
    }
   ],
   "source": [
    "rays_d.shape"
   ]
  },
  {
   "cell_type": "code",
   "execution_count": null,
   "metadata": {},
   "outputs": [],
   "source": []
  }
 ],
 "metadata": {
  "kernelspec": {
   "display_name": "Python 3",
   "language": "python",
   "name": "python3"
  },
  "language_info": {
   "codemirror_mode": {
    "name": "ipython",
    "version": 3
   },
   "file_extension": ".py",
   "mimetype": "text/x-python",
   "name": "python",
   "nbconvert_exporter": "python",
   "pygments_lexer": "ipython3",
   "version": "3.7.12"
  }
 },
 "nbformat": 4,
 "nbformat_minor": 2
}
