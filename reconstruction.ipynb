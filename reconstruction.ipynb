{
 "cells": [
  {
   "cell_type": "code",
   "execution_count": 1,
   "metadata": {},
   "outputs": [],
   "source": [
    "import pycolmap"
   ]
  },
  {
   "cell_type": "code",
   "execution_count": 2,
   "metadata": {},
   "outputs": [
    {
     "data": {
      "text/plain": [
       "PosixPath('/home/timeTravelling/yuanke/nerf-pytorch')"
      ]
     },
     "execution_count": 2,
     "metadata": {},
     "output_type": "execute_result"
    }
   ],
   "source": [
    "import pathlib\n",
    "pathlib.Path.cwd()"
   ]
  },
  {
   "cell_type": "code",
   "execution_count": 3,
   "metadata": {},
   "outputs": [],
   "source": [
    "output_path = pathlib.Path(\"/home/timeTravelling/yuanke/nerf-pytorch/reconstruct_output\")\n",
    "cur_dir =  pathlib.Path(\"/home/timeTravelling/yuanke/nerf-pytorch\")\n",
    "image_dir = cur_dir / \"data/nerf_synthetic/lego/train\"\n",
    "output_path.mkdir(exist_ok=True)\n",
    "mvs_path = output_path / \"mvs\"\n",
    "database_path = output_path / \"database.db\""
   ]
  },
  {
   "cell_type": "code",
   "execution_count": 4,
   "metadata": {},
   "outputs": [],
   "source": [
    "pycolmap.extract_features(database_path, image_dir)\n",
    "pycolmap.match_exhaustive(database_path)\n",
    "maps = pycolmap.incremental_mapping(database_path, image_dir, output_path)\n",
    "maps[0].write(output_path)"
   ]
  },
  {
   "cell_type": "code",
   "execution_count": 5,
   "metadata": {},
   "outputs": [
    {
     "name": "stdout",
     "output_type": "stream",
     "text": [
      "Reconstruction:\n",
      "\tnum_reg_images = 100\n",
      "\tnum_cameras = 100\n",
      "\tnum_points3D = 13870\n",
      "\tnum_observations = 62876\n",
      "\tmean_track_length = 4.53324\n",
      "\tmean_observations_per_image = 628.76\n",
      "\tmean_reprojection_error = 0.538689\n"
     ]
    }
   ],
   "source": [
    "reconstruction = pycolmap.Reconstruction(output_path)\n",
    "print(reconstruction.summary())"
   ]
  },
  {
   "cell_type": "code",
   "execution_count": 7,
   "metadata": {},
   "outputs": [],
   "source": [
    "reconstruction.write(output_path)"
   ]
  }
 ],
 "metadata": {
  "kernelspec": {
   "display_name": "Python 3",
   "language": "python",
   "name": "python3"
  },
  "language_info": {
   "codemirror_mode": {
    "name": "ipython",
    "version": 3
   },
   "file_extension": ".py",
   "mimetype": "text/x-python",
   "name": "python",
   "nbconvert_exporter": "python",
   "pygments_lexer": "ipython3",
   "version": "3.7.12"
  }
 },
 "nbformat": 4,
 "nbformat_minor": 2
}
